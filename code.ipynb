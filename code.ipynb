{
 "cells": [
  {
   "cell_type": "code",
   "execution_count": 14,
   "metadata": {},
   "outputs": [
    {
     "name": "stdout",
     "output_type": "stream",
     "text": [
      "\n",
      "image 1/1 /Users/sujalpatel/Desktop/Traffic_Management_System/IOT-based-management-system/test.jpg: 320x448 3 buss, 68 cars, 10 motorbikes, 7 persons, 38.6ms\n",
      "Speed: 0.8ms preprocess, 38.6ms inference, 0.8ms postprocess per image at shape (1, 3, 320, 448)\n"
     ]
    }
   ],
   "source": [
    "from ultralytics import YOLO\n",
    "import numpy as np\n",
    "from collections import Counter\n",
    "model = YOLO(r\"/Users/sujalpatel/Desktop/Traffic_Management_System/IOT-based-management-system/best.pt\")\n",
    "\n",
    "\n",
    "threshold = 0.001 \n",
    "results = model.predict(source=r\"/Users/sujalpatel/Desktop/Traffic_Management_System/IOT-based-management-system/test.jpg\", imgsz=448, conf=threshold)\n"
   ]
  },
  {
   "cell_type": "code",
   "execution_count": 17,
   "metadata": {},
   "outputs": [
    {
     "name": "stdout",
     "output_type": "stream",
     "text": [
      "88\n"
     ]
    }
   ],
   "source": [
    "xyxy = results[0].boxes.xyxy.tolist()\n",
    "conf = results[0].boxes.conf.tolist()\n",
    "print(len(xyxy))"
   ]
  },
  {
   "cell_type": "code",
   "execution_count": 18,
   "metadata": {},
   "outputs": [
    {
     "name": "stdout",
     "output_type": "stream",
     "text": [
      "Number of detected objects: 88\n",
      "Category counts: {'car': 68, 'motorbike': 10, 'bus': 3}\n"
     ]
    }
   ],
   "source": [
    "\n",
    "xyxy = results[0].boxes.xyxy.tolist()  # Bounding box coordinates\n",
    "conf = results[0].boxes.conf.tolist()  # Confidence scores\n",
    "cls = results[0].boxes.cls.tolist()    # Class labels\n",
    "\n",
    "# Print the number of detected objects\n",
    "print(\"Number of detected objects:\", len(xyxy))\n",
    "\n",
    "# Get class names based on the index (assuming you have the class names)\n",
    "class_names = model.names  # This gives you the class names in a list\n",
    "class_labels = [class_names[int(label)] for label in cls]\n",
    "\n",
    "# Count the occurrences of each class label\n",
    "category_counts = Counter(class_labels)\n",
    "\n",
    "# Convert Counter to dictionary\n",
    "category_counts_dict = dict(category_counts)\n",
    "del category_counts_dict['person']\n",
    "# Print the dictionary of category counts\n",
    "print(\"Category counts:\", category_counts_dict)\n"
   ]
  },
  {
   "cell_type": "code",
   "execution_count": 19,
   "metadata": {},
   "outputs": [
    {
     "name": "stdout",
     "output_type": "stream",
     "text": [
      "Green light duration (in seconds):\n",
      "Total green time: 52.55 seconds\n",
      "\n",
      "Estimated total waiting time (in seconds):\n",
      "Total waiting time: 114.20 seconds\n"
     ]
    }
   ],
   "source": [
    "# Define PCU values for different vehicle types\n",
    "PCU_VALUES = {\n",
    "    'car': 0.7,\n",
    "    'motorbike': 0.5,\n",
    "    'bus': 1.5,\n",
    "}\n",
    "\n",
    "# Define minimum and maximum green light durations (in seconds)\n",
    "T_MIN = 10  # minimum green light time\n",
    "T_MAX = 60  # maximum green light time\n",
    "\n",
    "# Example input: total count of each type of vehicle at the intersection\n",
    "vehicles_at_intersection = category_counts_dict\n",
    "\n",
    "def calculate_total_pcu(vehicles):\n",
    "    \"\"\"\n",
    "    Calculate the total PCU for all vehicles at the intersection.\n",
    "    \"\"\"\n",
    "    total_pcu = sum(count * PCU_VALUES.get(vehicle_type, 0) for vehicle_type, count in vehicles.items())\n",
    "    return total_pcu\n",
    "\n",
    "def calculate_green_time(total_pcu):\n",
    "    \"\"\"\n",
    "    Calculate the green light duration based on total PCU proportion.\n",
    "    \"\"\"\n",
    "    # Scale green light time based on traffic volume (PCU)\n",
    "    if total_pcu > 0:\n",
    "        return T_MIN + (total_pcu / (total_pcu + 10)) * (T_MAX - T_MIN)\n",
    "    else:\n",
    "        return T_MIN  # Default to minimum time if no vehicles\n",
    "\n",
    "def calculate_waiting_time(total_pcu, average_wait_time_per_vehicle):\n",
    "    \"\"\"\n",
    "    Estimate total waiting time for all vehicles at the intersection.\n",
    "    \"\"\"\n",
    "    return total_pcu * average_wait_time_per_vehicle\n",
    "\n",
    "# Calculate the total PCU for the intersection\n",
    "total_pcu = calculate_total_pcu(vehicles_at_intersection)\n",
    "\n",
    "# Calculate the dynamic green light duration based on the total PCU\n",
    "green_time = calculate_green_time(total_pcu)\n",
    "\n",
    "# Assume an average delay per vehicle based on traffic flow data (this can be dynamic in a real-time system)\n",
    "average_wait_time_per_vehicle = 2  # in seconds\n",
    "\n",
    "# Calculate estimated total waiting time at the intersection\n",
    "total_waiting_time = calculate_waiting_time(total_pcu, average_wait_time_per_vehicle)\n",
    "\n",
    "# Display results\n",
    "print(\"Green light duration (in seconds):\")\n",
    "print(f\"Total green time: {green_time:.2f} seconds\")\n",
    "\n",
    "print(\"\\nEstimated total waiting time (in seconds):\")\n",
    "print(f\"Total waiting time: {total_waiting_time:.2f} seconds\")\n"
   ]
  },
  {
   "cell_type": "code",
   "execution_count": null,
   "metadata": {},
   "outputs": [],
   "source": [
    "from ultralytics import YOLO\n",
    "import numpy as np\n",
    "from collections import Counter\n",
    "\n",
    "# Define PCU values for different vehicle types\n",
    "PCU_VALUES = {\n",
    "    'car': 1.0,\n",
    "    'motorbike': 0.5,\n",
    "    'bus': 2.5\n",
    "}\n",
    "\n",
    "# Define minimum and maximum green light durations (in seconds)\n",
    "T_MIN = 10  # minimum green light time\n",
    "T_MAX = 60  # maximum green light time\n",
    "\n",
    "# Path to the model and the images for each signal\n",
    "model = YOLO(r\"/Users/sujalpatel/Desktop/Traffic_Management_System/IOT-based-management-system/best.pt\")\n",
    "image_paths = {\n",
    "    'signal_1': r\"/Users/sujalpatel/Desktop/Traffic_Management_System/IOT-based-management-system/download.jpg\",\n",
    "    'signal_2': r\"/Users/sujalpatel/Desktop/Traffic_Management_System/IOT-based-management-system/download.jpg\",\n",
    "    'signal_3': r\"/Users/sujalpatel/Desktop/Traffic_Management_System/IOT-based-management-system/download.jpg\",\n",
    "    'signal_4': r\"/Users/sujalpatel/Desktop/Traffic_Management_System/IOT-based-management-system/download.jpg\"\n",
    "}\n",
    "\n",
    "def calculate_pcu(vehicles):\n",
    "    \"\"\"Calculate the total PCU for a given set of vehicles.\"\"\"\n",
    "    return sum(count * PCU_VALUES.get(vehicle_type, 0) for vehicle_type, count in vehicles.items())\n",
    "\n",
    "def calculate_green_time(total_pcu, signal_pcu):\n",
    "    \"\"\"Calculate the green light duration for a signal based on its PCU proportion.\"\"\"\n",
    "    return T_MIN + (signal_pcu / total_pcu) * (T_MAX - T_MIN) if total_pcu > 0 else T_MIN\n",
    "\n",
    "def calculate_waiting_time(signal_pcu, average_wait_time_per_vehicle=2):\n",
    "    \"\"\"Estimate the waiting time for a signal based on its total PCU.\"\"\"\n",
    "    return signal_pcu * average_wait_time_per_vehicle\n",
    "\n",
    "def get_vehicle_counts(image_path):\n",
    "    \"\"\"Detect vehicles in an image and return their counts by category.\"\"\"\n",
    "    threshold = 0.001\n",
    "    results = model.predict(source=image_path, imgsz=448, conf=threshold)\n",
    "    \n",
    "    # Count detected objects\n",
    "    cls = results[0].boxes.cls.tolist()\n",
    "    class_names = model.names  # Class names list\n",
    "    class_labels = [class_names[int(label)] for label in cls]\n",
    "    category_counts = Counter(class_labels)\n",
    "    \n",
    "    # Filter out non-vehicle classes (if needed)\n",
    "    vehicle_counts = {k: category_counts.get(k, 0) for k in PCU_VALUES.keys()}\n",
    "    return vehicle_counts\n",
    "\n",
    "# Process each signal's image and calculate green time and waiting time\n",
    "signal_data = {}\n",
    "for signal, image_path in image_paths.items():\n",
    "    vehicle_counts = get_vehicle_counts(image_path)\n",
    "    signal_pcu = calculate_pcu(vehicle_counts)\n",
    "    signal_data[signal] = {\n",
    "        'vehicle_counts': vehicle_counts,\n",
    "        'pcu': signal_pcu\n",
    "    }\n",
    "\n",
    "# Calculate total PCU across all signals\n",
    "total_pcu = sum(data['pcu'] for data in signal_data.values())\n",
    "\n",
    "# Calculate green light duration and waiting time for each signal\n",
    "for signal, data in signal_data.items():\n",
    "    green_time = calculate_green_time(total_pcu, data['pcu'])\n",
    "    waiting_time = calculate_waiting_time(data['pcu'])\n",
    "    \n",
    "    print(f\"{signal}:\\n - Green Light Duration: {green_time:.2f} seconds\\n - Waiting Time: {waiting_time:.2f} seconds\\n\")"
   ]
  }
 ],
 "metadata": {
  "kernelspec": {
   "display_name": "Python 3",
   "language": "python",
   "name": "python3"
  },
  "language_info": {
   "codemirror_mode": {
    "name": "ipython",
    "version": 3
   },
   "file_extension": ".py",
   "mimetype": "text/x-python",
   "name": "python",
   "nbconvert_exporter": "python",
   "pygments_lexer": "ipython3",
   "version": "3.10.7"
  }
 },
 "nbformat": 4,
 "nbformat_minor": 2
}
